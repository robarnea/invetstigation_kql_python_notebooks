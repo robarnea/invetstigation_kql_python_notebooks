{
    "metadata": {
        "kernelspec": {
            "name": "python3",
            "display_name": "Python 3 (ipykernel)",
            "language": "python"
        },
        "language_info": {
            "name": "python",
            "version": "3.8.10",
            "mimetype": "text/x-python",
            "codemirror_mode": {
                "name": "ipython",
                "version": 3
            },
            "pygments_lexer": "ipython3",
            "nbconvert_exporter": "python",
            "file_extension": ".py"
        }
    },
    "nbformat_minor": 2,
    "nbformat": 4,
    "cells": [
        {
            "cell_type": "code",
            "source": [
                "%kql --version"
            ],
            "metadata": {
                "azdata_cell_guid": "9ac1b29e-b375-491d-8666-18834c44c7af",
                "language": "python",
                "tags": [
                    "hide_input"
                ]
            },
            "outputs": [
                {
                    "output_type": "execute_result",
                    "execution_count": 6,
                    "data": {
                        "text/plain": "Kqlmagic version: 0.1.114.post22",
                        "text/html": "<!DOCTYPE html>\n        <html>\n        <head>\n        <meta charset=\"utf-8\">\n        <meta name=\"viewport\" content=\"width=device-width,initial-scale=1\">\n        <title>Kqlmagic - version</title>\n        </head>\n        <body>\n        <p>Kqlmagic version: 0.1.114.post22</p>\n        </body>\n        </html>\n        ",
                        "text/markdown": "Kqlmagic version: 0.1.114.post22"
                    },
                    "metadata": {}
                }
            ],
            "execution_count": 6
        },
        {
            "cell_type": "code",
            "source": [
                "%kql azuredataexplorer://code;cluster='Excelonline';database='ULS'"
            ],
            "metadata": {
                "azdata_cell_guid": "aabf1456-f848-4023-a84d-8ba2c23079c7",
                "language": "python",
                "tags": [
                    "hide_input"
                ]
            },
            "outputs": [
                {
                    "output_type": "display_data",
                    "data": {
                        "text/plain": "<IPython.core.display.HTML object>",
                        "text/html": "<!DOCTYPE html>\n            <html><body>\n            <div style=''>\n            <b>CY2BPDFCQ</b>&nbsp;<a href='http://127.0.0.1:61115/webbrowser?url=http%3A//127.0.0.1%3A61115/files/.kqlmagic/temp_files/d8a8219c-748a-40f3-9cf0-aec9c52caad6/popup_devicelogin.html%3Fkernelid%3Dd8a8219c-748a-40f3-9cf0-aec9c52caad6&kernelid=d8a8219c-748a-40f3-9cf0-aec9c52caad6' style='padding: 2px 6px 2px 6px; color: #333333; background-color: #EEEEEE; border-top: 1px solid #CCCCCC; border-right: 1px solid #333333; border-bottom: 1px solid #333333; border-left: 1px solid #CCCCCC' target='popup_verification_url'>Copy code to clipboard and authenticate</a>\n            </div>\n            </body></html>"
                    },
                    "metadata": {}
                },
                {
                    "output_type": "display_data",
                    "data": {
                        "text/plain": "<IPython.core.display.HTML object>",
                        "text/html": "<!DOCTYPE html>\n                            <html><body><script>\n\n                                // close authentication window\n                                if (kql_MagicUserCodeAuthWindow && kql_MagicUserCodeAuthWindow.opener != null && !kql_MagicUserCodeAuthWindow.closed) {\n                                    kql_MagicUserCodeAuthWindow.close()\n                                }\n                                // TODO: make sure, you clear the right cell. BTW, not sure it is a must to do any clearing\n\n                                // clear output cell\n                                Jupyter.notebook.clear_output(Jupyter.notebook.get_selected_index())\n\n                                // TODO: if in run all mode, move to last cell, otherwise move to next cell\n                                // move to next cell\n\n                            </script></body></html>"
                    },
                    "metadata": {}
                },
                {
                    "output_type": "display_data",
                    "data": {
                        "text/plain": "<IPython.core.display.HTML object>",
                        "text/html": "<!DOCTYPE html>\n            <html><body>\n            <div style=''>\n            <a href='http://127.0.0.1:61115/webbrowser?url=http%3A//127.0.0.1%3A61115/files/.kqlmagic/temp_files/d8a8219c-748a-40f3-9cf0-aec9c52caad6/popup__ULS_at_excelonline_schema.html%3Fkernelid%3Dd8a8219c-748a-40f3-9cf0-aec9c52caad6&kernelid=d8a8219c-748a-40f3-9cf0-aec9c52caad6' style='padding: 2px 6px 2px 6px; color: #333333; background-color: #EEEEEE; border-top: 1px solid #CCCCCC; border-right: 1px solid #333333; border-bottom: 1px solid #333333; border-left: 1px solid #CCCCCC' target='popup__ULS_at_excelonline_schema'>popup schema ULS@excelonline</a>\n            </div>\n            </body></html>"
                    },
                    "metadata": {}
                }
            ],
            "execution_count": 7
        },
        {
            "cell_type": "code",
            "source": [
                "result = %kql ULSFullProd | take 1000 ;\r\n",
                "df = result.to_dataframe() ;\r\n",
                "df"
            ],
            "metadata": {
                "language": "python",
                "azdata_cell_guid": "e799caf9-3251-4c30-a1eb-89fe4cf75e56",
                "tags": [
                    "hide_input"
                ]
            },
            "outputs": [
                {
                    "output_type": "execute_result",
                    "execution_count": 38,
                    "data": {
                        "text/plain": "                              TIMESTAMP                    PreciseTimeStamp  \\\n0   2023-06-11 14:31:26.339053900+00:00 2023-06-11 14:31:26.339053900+00:00   \n1   2023-06-11 14:31:26.339078200+00:00 2023-06-11 14:31:26.339078200+00:00   \n2   2023-06-11 14:31:26.339085800+00:00 2023-06-11 14:31:26.339085800+00:00   \n3   2023-06-11 14:31:26.339093300+00:00 2023-06-11 14:31:26.339093300+00:00   \n4   2023-06-11 14:31:26.339101100+00:00 2023-06-11 14:31:26.339101100+00:00   \n..                                  ...                                 ...   \n995 2023-06-11 14:31:26.828907500+00:00 2023-06-11 14:31:26.828907500+00:00   \n996 2023-06-11 14:31:26.828924200+00:00 2023-06-11 14:31:26.828924200+00:00   \n997 2023-06-11 14:31:26.828985800+00:00 2023-06-11 14:31:26.828985800+00:00   \n998 2023-06-11 14:31:26.829124300+00:00 2023-06-11 14:31:26.829124300+00:00   \n999 2023-06-11 14:31:26.829152200+00:00 2023-06-11 14:31:26.829152200+00:00   \n\n    Datacenter MachineFunction ScaleUnit      MachineName  \\\n0         SNL1        ExcelLB1       100  AM4PEPF00006A41   \n1         SNL1        ExcelLB1       100  AM4PEPF00006A41   \n2         SNL1        ExcelLB1       100  AM4PEPF00006A41   \n3         SNL1        ExcelLB1       100  AM4PEPF00006A41   \n4         SNL1        ExcelLB1       100  AM4PEPF00006A41   \n..         ...             ...       ...              ...   \n995       SNL1        ExcelLB1       100  AM4PEPF00006A41   \n996       SNL1        ExcelLB1       100  AM4PEPF00006A41   \n997       SNL1        ExcelLB1       100  AM4PEPF00006A41   \n998       SNL1        ExcelLB1       100  AM4PEPF00006A41   \n999       SNL1        ExcelLB1       100  AM4PEPF00006A41   \n\n                                   Time  \\\n0   2023-06-11 14:31:26.339053900+00:00   \n1   2023-06-11 14:31:26.339078200+00:00   \n2   2023-06-11 14:31:26.339085800+00:00   \n3   2023-06-11 14:31:26.339093300+00:00   \n4   2023-06-11 14:31:26.339101100+00:00   \n..                                  ...   \n995 2023-06-11 14:31:26.828907500+00:00   \n996 2023-06-11 14:31:26.828924200+00:00   \n997 2023-06-11 14:31:26.828985800+00:00   \n998 2023-06-11 14:31:26.829124300+00:00   \n999 2023-06-11 14:31:26.829152200+00:00   \n\n                                            Process  Thread  \\\n0                                 w3wp.exe (0x8384)  0x90B0   \n1                                 w3wp.exe (0x8384)  0x90B0   \n2                                 w3wp.exe (0x8384)  0x90B0   \n3                                 w3wp.exe (0x8384)  0x90B0   \n4                                 w3wp.exe (0x8384)  0x90B0   \n..                                              ...     ...   \n995  w3wp.exe#AUTOIISPOOL_ExcelServicesEcs (0x8384)  0xBC14   \n996  w3wp.exe#AUTOIISPOOL_ExcelServicesEcs (0x8384)  0xBC14   \n997  w3wp.exe#AUTOIISPOOL_ExcelServicesEcs (0x8384)  0xBC14   \n998  w3wp.exe#AUTOIISPOOL_ExcelServicesEcs (0x8384)  0xBC14   \n999  w3wp.exe#AUTOIISPOOL_ExcelServicesEcs (0x8384)  0xBC14   \n\n                 Product  ... EventID   Level  \\\n0    Hosted Excel Online  ...   bq9ui  Medium   \n1    Hosted Excel Online  ...   bq9t6  Medium   \n2    Hosted Excel Online  ...   bq9ui  Medium   \n3    Hosted Excel Online  ...   bq9t6  Medium   \n4    Hosted Excel Online  ...   bq9ui  Medium   \n..                   ...  ...     ...     ...   \n995          ULS Logging  ...    xmnv  Medium   \n996  Hosted Excel Online  ...    eca6  Medium   \n997  Hosted Excel Online  ...   aodb2  Medium   \n998          ULS Logging  ...    xmnv  Medium   \n999          ULS Logging  ...    xmnv  Medium   \n\n                              Correlation  \\\n0    39a0a3ca-6893-4b4f-94a4-61a84592e793   \n1    39a0a3ca-6893-4b4f-94a4-61a84592e793   \n2    39a0a3ca-6893-4b4f-94a4-61a84592e793   \n3    39a0a3ca-6893-4b4f-94a4-61a84592e793   \n4    39a0a3ca-6893-4b4f-94a4-61a84592e793   \n..                                    ...   \n995  7b3b5728-0afc-499f-ab57-00d63d956c23   \n996  7b3b5728-0afc-499f-ab57-00d63d956c23   \n997  7b3b5728-0afc-499f-ab57-00d63d956c23   \n998  7b3b5728-0afc-499f-ab57-00d63d956c23   \n999  7b3b5728-0afc-499f-ab57-00d63d956c23   \n\n                                               Message          Machine  \\\n0    ReportOartUnsupportedFeatures: m_rgoufcOartUns...  AM4PEPF00006A41   \n1    HandleInteractiveReportUnsupportedFeatureIfNec...  AM4PEPF00006A41   \n2    ReportOartUnsupportedFeatures: m_rgoufcOartUns...  AM4PEPF00006A41   \n3    HandleInteractiveReportUnsupportedFeatureIfNec...  AM4PEPF00006A41   \n4    ReportOartUnsupportedFeatures: m_rgoufcOartUns...  AM4PEPF00006A41   \n..                                                 ...              ...   \n995  EcsSession=1.U10.-11327093114.5.nl-NL5.nl-BE1....  AM4PEPF00006A41   \n996  ExcelService.LogRequest: starting request of t...  AM4PEPF00006A41   \n997  {\"a\":\"ServerActions\",\"b\":\"EcsOperation\",\"c\":\"S...  AM4PEPF00006A41   \n998  EcsSession=1.U10.-11327093114.5.nl-NL5.nl-BE1....  AM4PEPF00006A41   \n999  Document=UREDACTED_(Xuggx47euHxiFFyr0WFfOZEBAw...  AM4PEPF00006A41   \n\n                             WACSessionID ApplicationVersion SourceNamespace  \\\n0    39a0a3ca-6893-4b4f-94a4-61a84592e793   16.0.16605.42304     ExcelOnline   \n1    39a0a3ca-6893-4b4f-94a4-61a84592e793   16.0.16605.42304     ExcelOnline   \n2    39a0a3ca-6893-4b4f-94a4-61a84592e793   16.0.16605.42304     ExcelOnline   \n3    39a0a3ca-6893-4b4f-94a4-61a84592e793   16.0.16605.42304     ExcelOnline   \n4    39a0a3ca-6893-4b4f-94a4-61a84592e793   16.0.16605.42304     ExcelOnline   \n..                                    ...                ...             ...   \n995  bfb9fec0-eb8a-43dd-adf8-c8d678d6f328   16.0.16605.42304     ExcelOnline   \n996  bfb9fec0-eb8a-43dd-adf8-c8d678d6f328   16.0.16605.42304     ExcelOnline   \n997  bfb9fec0-eb8a-43dd-adf8-c8d678d6f328   16.0.16605.42304     ExcelOnline   \n998  bfb9fec0-eb8a-43dd-adf8-c8d678d6f328   16.0.16605.42304     ExcelOnline   \n999  bfb9fec0-eb8a-43dd-adf8-c8d678d6f328   16.0.16605.42304     ExcelOnline   \n\n           SourceMoniker SourceVersion  \n0    excelonlinediagam08        Ver4v0  \n1    excelonlinediagam08        Ver4v0  \n2    excelonlinediagam08        Ver4v0  \n3    excelonlinediagam08        Ver4v0  \n4    excelonlinediagam08        Ver4v0  \n..                   ...           ...  \n995  excelonlinediagam08        Ver4v0  \n996  excelonlinediagam08        Ver4v0  \n997  excelonlinediagam08        Ver4v0  \n998  excelonlinediagam08        Ver4v0  \n999  excelonlinediagam08        Ver4v0  \n\n[1000 rows x 21 columns]",
                        "text/html": "<div>\n<style scoped>\n    .dataframe tbody tr th:only-of-type {\n        vertical-align: middle;\n    }\n\n    .dataframe tbody tr th {\n        vertical-align: top;\n    }\n\n    .dataframe thead th {\n        text-align: right;\n    }\n</style>\n<table border=\"1\" class=\"dataframe\">\n  <thead>\n    <tr style=\"text-align: right;\">\n      <th></th>\n      <th>TIMESTAMP</th>\n      <th>PreciseTimeStamp</th>\n      <th>Datacenter</th>\n      <th>MachineFunction</th>\n      <th>ScaleUnit</th>\n      <th>MachineName</th>\n      <th>Time</th>\n      <th>Process</th>\n      <th>Thread</th>\n      <th>Product</th>\n      <th>...</th>\n      <th>EventID</th>\n      <th>Level</th>\n      <th>Correlation</th>\n      <th>Message</th>\n      <th>Machine</th>\n      <th>WACSessionID</th>\n      <th>ApplicationVersion</th>\n      <th>SourceNamespace</th>\n      <th>SourceMoniker</th>\n      <th>SourceVersion</th>\n    </tr>\n  </thead>\n  <tbody>\n    <tr>\n      <th>0</th>\n      <td>2023-06-11 14:31:26.339053900+00:00</td>\n      <td>2023-06-11 14:31:26.339053900+00:00</td>\n      <td>SNL1</td>\n      <td>ExcelLB1</td>\n      <td>100</td>\n      <td>AM4PEPF00006A41</td>\n      <td>2023-06-11 14:31:26.339053900+00:00</td>\n      <td>w3wp.exe (0x8384)</td>\n      <td>0x90B0</td>\n      <td>Hosted Excel Online</td>\n      <td>...</td>\n      <td>bq9ui</td>\n      <td>Medium</td>\n      <td>39a0a3ca-6893-4b4f-94a4-61a84592e793</td>\n      <td>ReportOartUnsupportedFeatures: m_rgoufcOartUns...</td>\n      <td>AM4PEPF00006A41</td>\n      <td>39a0a3ca-6893-4b4f-94a4-61a84592e793</td>\n      <td>16.0.16605.42304</td>\n      <td>ExcelOnline</td>\n      <td>excelonlinediagam08</td>\n      <td>Ver4v0</td>\n    </tr>\n    <tr>\n      <th>1</th>\n      <td>2023-06-11 14:31:26.339078200+00:00</td>\n      <td>2023-06-11 14:31:26.339078200+00:00</td>\n      <td>SNL1</td>\n      <td>ExcelLB1</td>\n      <td>100</td>\n      <td>AM4PEPF00006A41</td>\n      <td>2023-06-11 14:31:26.339078200+00:00</td>\n      <td>w3wp.exe (0x8384)</td>\n      <td>0x90B0</td>\n      <td>Hosted Excel Online</td>\n      <td>...</td>\n      <td>bq9t6</td>\n      <td>Medium</td>\n      <td>39a0a3ca-6893-4b4f-94a4-61a84592e793</td>\n      <td>HandleInteractiveReportUnsupportedFeatureIfNec...</td>\n      <td>AM4PEPF00006A41</td>\n      <td>39a0a3ca-6893-4b4f-94a4-61a84592e793</td>\n      <td>16.0.16605.42304</td>\n      <td>ExcelOnline</td>\n      <td>excelonlinediagam08</td>\n      <td>Ver4v0</td>\n    </tr>\n    <tr>\n      <th>2</th>\n      <td>2023-06-11 14:31:26.339085800+00:00</td>\n      <td>2023-06-11 14:31:26.339085800+00:00</td>\n      <td>SNL1</td>\n      <td>ExcelLB1</td>\n      <td>100</td>\n      <td>AM4PEPF00006A41</td>\n      <td>2023-06-11 14:31:26.339085800+00:00</td>\n      <td>w3wp.exe (0x8384)</td>\n      <td>0x90B0</td>\n      <td>Hosted Excel Online</td>\n      <td>...</td>\n      <td>bq9ui</td>\n      <td>Medium</td>\n      <td>39a0a3ca-6893-4b4f-94a4-61a84592e793</td>\n      <td>ReportOartUnsupportedFeatures: m_rgoufcOartUns...</td>\n      <td>AM4PEPF00006A41</td>\n      <td>39a0a3ca-6893-4b4f-94a4-61a84592e793</td>\n      <td>16.0.16605.42304</td>\n      <td>ExcelOnline</td>\n      <td>excelonlinediagam08</td>\n      <td>Ver4v0</td>\n    </tr>\n    <tr>\n      <th>3</th>\n      <td>2023-06-11 14:31:26.339093300+00:00</td>\n      <td>2023-06-11 14:31:26.339093300+00:00</td>\n      <td>SNL1</td>\n      <td>ExcelLB1</td>\n      <td>100</td>\n      <td>AM4PEPF00006A41</td>\n      <td>2023-06-11 14:31:26.339093300+00:00</td>\n      <td>w3wp.exe (0x8384)</td>\n      <td>0x90B0</td>\n      <td>Hosted Excel Online</td>\n      <td>...</td>\n      <td>bq9t6</td>\n      <td>Medium</td>\n      <td>39a0a3ca-6893-4b4f-94a4-61a84592e793</td>\n      <td>HandleInteractiveReportUnsupportedFeatureIfNec...</td>\n      <td>AM4PEPF00006A41</td>\n      <td>39a0a3ca-6893-4b4f-94a4-61a84592e793</td>\n      <td>16.0.16605.42304</td>\n      <td>ExcelOnline</td>\n      <td>excelonlinediagam08</td>\n      <td>Ver4v0</td>\n    </tr>\n    <tr>\n      <th>4</th>\n      <td>2023-06-11 14:31:26.339101100+00:00</td>\n      <td>2023-06-11 14:31:26.339101100+00:00</td>\n      <td>SNL1</td>\n      <td>ExcelLB1</td>\n      <td>100</td>\n      <td>AM4PEPF00006A41</td>\n      <td>2023-06-11 14:31:26.339101100+00:00</td>\n      <td>w3wp.exe (0x8384)</td>\n      <td>0x90B0</td>\n      <td>Hosted Excel Online</td>\n      <td>...</td>\n      <td>bq9ui</td>\n      <td>Medium</td>\n      <td>39a0a3ca-6893-4b4f-94a4-61a84592e793</td>\n      <td>ReportOartUnsupportedFeatures: m_rgoufcOartUns...</td>\n      <td>AM4PEPF00006A41</td>\n      <td>39a0a3ca-6893-4b4f-94a4-61a84592e793</td>\n      <td>16.0.16605.42304</td>\n      <td>ExcelOnline</td>\n      <td>excelonlinediagam08</td>\n      <td>Ver4v0</td>\n    </tr>\n    <tr>\n      <th>...</th>\n      <td>...</td>\n      <td>...</td>\n      <td>...</td>\n      <td>...</td>\n      <td>...</td>\n      <td>...</td>\n      <td>...</td>\n      <td>...</td>\n      <td>...</td>\n      <td>...</td>\n      <td>...</td>\n      <td>...</td>\n      <td>...</td>\n      <td>...</td>\n      <td>...</td>\n      <td>...</td>\n      <td>...</td>\n      <td>...</td>\n      <td>...</td>\n      <td>...</td>\n      <td>...</td>\n    </tr>\n    <tr>\n      <th>995</th>\n      <td>2023-06-11 14:31:26.828907500+00:00</td>\n      <td>2023-06-11 14:31:26.828907500+00:00</td>\n      <td>SNL1</td>\n      <td>ExcelLB1</td>\n      <td>100</td>\n      <td>AM4PEPF00006A41</td>\n      <td>2023-06-11 14:31:26.828907500+00:00</td>\n      <td>w3wp.exe#AUTOIISPOOL_ExcelServicesEcs (0x8384)</td>\n      <td>0xBC14</td>\n      <td>ULS Logging</td>\n      <td>...</td>\n      <td>xmnv</td>\n      <td>Medium</td>\n      <td>7b3b5728-0afc-499f-ab57-00d63d956c23</td>\n      <td>EcsSession=1.U10.-11327093114.5.nl-NL5.nl-BE1....</td>\n      <td>AM4PEPF00006A41</td>\n      <td>bfb9fec0-eb8a-43dd-adf8-c8d678d6f328</td>\n      <td>16.0.16605.42304</td>\n      <td>ExcelOnline</td>\n      <td>excelonlinediagam08</td>\n      <td>Ver4v0</td>\n    </tr>\n    <tr>\n      <th>996</th>\n      <td>2023-06-11 14:31:26.828924200+00:00</td>\n      <td>2023-06-11 14:31:26.828924200+00:00</td>\n      <td>SNL1</td>\n      <td>ExcelLB1</td>\n      <td>100</td>\n      <td>AM4PEPF00006A41</td>\n      <td>2023-06-11 14:31:26.828924200+00:00</td>\n      <td>w3wp.exe#AUTOIISPOOL_ExcelServicesEcs (0x8384)</td>\n      <td>0xBC14</td>\n      <td>Hosted Excel Online</td>\n      <td>...</td>\n      <td>eca6</td>\n      <td>Medium</td>\n      <td>7b3b5728-0afc-499f-ab57-00d63d956c23</td>\n      <td>ExcelService.LogRequest: starting request of t...</td>\n      <td>AM4PEPF00006A41</td>\n      <td>bfb9fec0-eb8a-43dd-adf8-c8d678d6f328</td>\n      <td>16.0.16605.42304</td>\n      <td>ExcelOnline</td>\n      <td>excelonlinediagam08</td>\n      <td>Ver4v0</td>\n    </tr>\n    <tr>\n      <th>997</th>\n      <td>2023-06-11 14:31:26.828985800+00:00</td>\n      <td>2023-06-11 14:31:26.828985800+00:00</td>\n      <td>SNL1</td>\n      <td>ExcelLB1</td>\n      <td>100</td>\n      <td>AM4PEPF00006A41</td>\n      <td>2023-06-11 14:31:26.828985800+00:00</td>\n      <td>w3wp.exe#AUTOIISPOOL_ExcelServicesEcs (0x8384)</td>\n      <td>0xBC14</td>\n      <td>Hosted Excel Online</td>\n      <td>...</td>\n      <td>aodb2</td>\n      <td>Medium</td>\n      <td>7b3b5728-0afc-499f-ab57-00d63d956c23</td>\n      <td>{\"a\":\"ServerActions\",\"b\":\"EcsOperation\",\"c\":\"S...</td>\n      <td>AM4PEPF00006A41</td>\n      <td>bfb9fec0-eb8a-43dd-adf8-c8d678d6f328</td>\n      <td>16.0.16605.42304</td>\n      <td>ExcelOnline</td>\n      <td>excelonlinediagam08</td>\n      <td>Ver4v0</td>\n    </tr>\n    <tr>\n      <th>998</th>\n      <td>2023-06-11 14:31:26.829124300+00:00</td>\n      <td>2023-06-11 14:31:26.829124300+00:00</td>\n      <td>SNL1</td>\n      <td>ExcelLB1</td>\n      <td>100</td>\n      <td>AM4PEPF00006A41</td>\n      <td>2023-06-11 14:31:26.829124300+00:00</td>\n      <td>w3wp.exe#AUTOIISPOOL_ExcelServicesEcs (0x8384)</td>\n      <td>0xBC14</td>\n      <td>ULS Logging</td>\n      <td>...</td>\n      <td>xmnv</td>\n      <td>Medium</td>\n      <td>7b3b5728-0afc-499f-ab57-00d63d956c23</td>\n      <td>EcsSession=1.U10.-11327093114.5.nl-NL5.nl-BE1....</td>\n      <td>AM4PEPF00006A41</td>\n      <td>bfb9fec0-eb8a-43dd-adf8-c8d678d6f328</td>\n      <td>16.0.16605.42304</td>\n      <td>ExcelOnline</td>\n      <td>excelonlinediagam08</td>\n      <td>Ver4v0</td>\n    </tr>\n    <tr>\n      <th>999</th>\n      <td>2023-06-11 14:31:26.829152200+00:00</td>\n      <td>2023-06-11 14:31:26.829152200+00:00</td>\n      <td>SNL1</td>\n      <td>ExcelLB1</td>\n      <td>100</td>\n      <td>AM4PEPF00006A41</td>\n      <td>2023-06-11 14:31:26.829152200+00:00</td>\n      <td>w3wp.exe#AUTOIISPOOL_ExcelServicesEcs (0x8384)</td>\n      <td>0xBC14</td>\n      <td>ULS Logging</td>\n      <td>...</td>\n      <td>xmnv</td>\n      <td>Medium</td>\n      <td>7b3b5728-0afc-499f-ab57-00d63d956c23</td>\n      <td>Document=UREDACTED_(Xuggx47euHxiFFyr0WFfOZEBAw...</td>\n      <td>AM4PEPF00006A41</td>\n      <td>bfb9fec0-eb8a-43dd-adf8-c8d678d6f328</td>\n      <td>16.0.16605.42304</td>\n      <td>ExcelOnline</td>\n      <td>excelonlinediagam08</td>\n      <td>Ver4v0</td>\n    </tr>\n  </tbody>\n</table>\n<p>1000 rows × 21 columns</p>\n</div>"
                    },
                    "metadata": {}
                }
            ],
            "execution_count": 38
        },
        {
            "cell_type": "markdown",
            "source": [
                ""
            ],
            "metadata": {
                "language": "python",
                "azdata_cell_guid": "4b01ca65-a0a3-4832-8195-b7351a79aa71"
            },
            "attachments": {}
        }
    ]
}